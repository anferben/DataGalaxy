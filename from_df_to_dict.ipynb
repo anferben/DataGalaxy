{
  "nbformat": 4,
  "nbformat_minor": 0,
  "metadata": {
    "colab": {
      "name": "from-df-to-dict.ipynb",
      "provenance": [],
      "mount_file_id": "1dzrAhO4pGSJuj-3RUn-_sFHro8CN-Wiv",
      "authorship_tag": "ABX9TyO8qgLwY6kHON1VJsBIrFq9",
      "include_colab_link": true
    },
    "kernelspec": {
      "name": "python3",
      "display_name": "Python 3"
    }
  },
  "cells": [
    {
      "cell_type": "markdown",
      "metadata": {
        "id": "view-in-github",
        "colab_type": "text"
      },
      "source": [
        "<a href=\"https://colab.research.google.com/github/anferben/DataGalaxy/blob/main/from_df_to_dict.ipynb\" target=\"_parent\"><img src=\"https://colab.research.google.com/assets/colab-badge.svg\" alt=\"Open In Colab\"/></a>"
      ]
    },
    {
      "cell_type": "code",
      "metadata": {
        "id": "QtTSTMAi6YNw"
      },
      "source": [
        "import pandas as pd"
      ],
      "execution_count": null,
      "outputs": []
    },
    {
      "cell_type": "code",
      "metadata": {
        "colab": {
          "base_uri": "https://localhost:8080/",
          "height": 198
        },
        "id": "swwDtxGm__wu",
        "outputId": "f45e8788-749e-4fdc-ecb1-44186e59cbdf"
      },
      "source": [
        "df = pd.read_csv('https://raw.githubusercontent.com/anferben/DataGalaxy/main/worldcities.csv')\n",
        "df.head()"
      ],
      "execution_count": null,
      "outputs": [
        {
          "output_type": "execute_result",
          "data": {
            "text/html": [
              "<div>\n",
              "<style scoped>\n",
              "    .dataframe tbody tr th:only-of-type {\n",
              "        vertical-align: middle;\n",
              "    }\n",
              "\n",
              "    .dataframe tbody tr th {\n",
              "        vertical-align: top;\n",
              "    }\n",
              "\n",
              "    .dataframe thead th {\n",
              "        text-align: right;\n",
              "    }\n",
              "</style>\n",
              "<table border=\"1\" class=\"dataframe\">\n",
              "  <thead>\n",
              "    <tr style=\"text-align: right;\">\n",
              "      <th></th>\n",
              "      <th>city</th>\n",
              "      <th>city_ascii</th>\n",
              "      <th>lat</th>\n",
              "      <th>lng</th>\n",
              "      <th>country</th>\n",
              "      <th>iso2</th>\n",
              "      <th>iso3</th>\n",
              "      <th>admin_name</th>\n",
              "      <th>capital</th>\n",
              "      <th>population</th>\n",
              "      <th>id</th>\n",
              "    </tr>\n",
              "  </thead>\n",
              "  <tbody>\n",
              "    <tr>\n",
              "      <th>0</th>\n",
              "      <td>Tokyo</td>\n",
              "      <td>Tokyo</td>\n",
              "      <td>35.6897</td>\n",
              "      <td>139.6922</td>\n",
              "      <td>Japan</td>\n",
              "      <td>JP</td>\n",
              "      <td>JPN</td>\n",
              "      <td>Tōkyō</td>\n",
              "      <td>primary</td>\n",
              "      <td>37977000.0</td>\n",
              "      <td>1392685764</td>\n",
              "    </tr>\n",
              "    <tr>\n",
              "      <th>1</th>\n",
              "      <td>Jakarta</td>\n",
              "      <td>Jakarta</td>\n",
              "      <td>-6.2146</td>\n",
              "      <td>106.8451</td>\n",
              "      <td>Indonesia</td>\n",
              "      <td>ID</td>\n",
              "      <td>IDN</td>\n",
              "      <td>Jakarta</td>\n",
              "      <td>primary</td>\n",
              "      <td>34540000.0</td>\n",
              "      <td>1360771077</td>\n",
              "    </tr>\n",
              "    <tr>\n",
              "      <th>2</th>\n",
              "      <td>Delhi</td>\n",
              "      <td>Delhi</td>\n",
              "      <td>28.6600</td>\n",
              "      <td>77.2300</td>\n",
              "      <td>India</td>\n",
              "      <td>IN</td>\n",
              "      <td>IND</td>\n",
              "      <td>Delhi</td>\n",
              "      <td>admin</td>\n",
              "      <td>29617000.0</td>\n",
              "      <td>1356872604</td>\n",
              "    </tr>\n",
              "    <tr>\n",
              "      <th>3</th>\n",
              "      <td>Mumbai</td>\n",
              "      <td>Mumbai</td>\n",
              "      <td>18.9667</td>\n",
              "      <td>72.8333</td>\n",
              "      <td>India</td>\n",
              "      <td>IN</td>\n",
              "      <td>IND</td>\n",
              "      <td>Mahārāshtra</td>\n",
              "      <td>admin</td>\n",
              "      <td>23355000.0</td>\n",
              "      <td>1356226629</td>\n",
              "    </tr>\n",
              "    <tr>\n",
              "      <th>4</th>\n",
              "      <td>Manila</td>\n",
              "      <td>Manila</td>\n",
              "      <td>14.5958</td>\n",
              "      <td>120.9772</td>\n",
              "      <td>Philippines</td>\n",
              "      <td>PH</td>\n",
              "      <td>PHL</td>\n",
              "      <td>Manila</td>\n",
              "      <td>primary</td>\n",
              "      <td>23088000.0</td>\n",
              "      <td>1608618140</td>\n",
              "    </tr>\n",
              "  </tbody>\n",
              "</table>\n",
              "</div>"
            ],
            "text/plain": [
              "      city city_ascii      lat  ...  capital  population          id\n",
              "0    Tokyo      Tokyo  35.6897  ...  primary  37977000.0  1392685764\n",
              "1  Jakarta    Jakarta  -6.2146  ...  primary  34540000.0  1360771077\n",
              "2    Delhi      Delhi  28.6600  ...    admin  29617000.0  1356872604\n",
              "3   Mumbai     Mumbai  18.9667  ...    admin  23355000.0  1356226629\n",
              "4   Manila     Manila  14.5958  ...  primary  23088000.0  1608618140\n",
              "\n",
              "[5 rows x 11 columns]"
            ]
          },
          "metadata": {
            "tags": []
          },
          "execution_count": 7
        }
      ]
    },
    {
      "cell_type": "code",
      "metadata": {
        "colab": {
          "base_uri": "https://localhost:8080/",
          "height": 398
        },
        "id": "o5C9adFrAZWV",
        "outputId": "cc4fc071-964a-45d4-ac9b-b5a73912f97c"
      },
      "source": [
        "df_location = df[['city', 'lat', 'lng']]\n",
        "print(df_location.info())\n",
        "df_location.head()"
      ],
      "execution_count": null,
      "outputs": [
        {
          "output_type": "stream",
          "text": [
            "<class 'pandas.core.frame.DataFrame'>\n",
            "RangeIndex: 26568 entries, 0 to 26567\n",
            "Data columns (total 3 columns):\n",
            " #   Column  Non-Null Count  Dtype  \n",
            "---  ------  --------------  -----  \n",
            " 0   city    26568 non-null  object \n",
            " 1   lat     26568 non-null  float64\n",
            " 2   lng     26568 non-null  float64\n",
            "dtypes: float64(2), object(1)\n",
            "memory usage: 622.8+ KB\n",
            "None\n"
          ],
          "name": "stdout"
        },
        {
          "output_type": "execute_result",
          "data": {
            "text/html": [
              "<div>\n",
              "<style scoped>\n",
              "    .dataframe tbody tr th:only-of-type {\n",
              "        vertical-align: middle;\n",
              "    }\n",
              "\n",
              "    .dataframe tbody tr th {\n",
              "        vertical-align: top;\n",
              "    }\n",
              "\n",
              "    .dataframe thead th {\n",
              "        text-align: right;\n",
              "    }\n",
              "</style>\n",
              "<table border=\"1\" class=\"dataframe\">\n",
              "  <thead>\n",
              "    <tr style=\"text-align: right;\">\n",
              "      <th></th>\n",
              "      <th>city</th>\n",
              "      <th>lat</th>\n",
              "      <th>lng</th>\n",
              "    </tr>\n",
              "  </thead>\n",
              "  <tbody>\n",
              "    <tr>\n",
              "      <th>0</th>\n",
              "      <td>Tokyo</td>\n",
              "      <td>35.6897</td>\n",
              "      <td>139.6922</td>\n",
              "    </tr>\n",
              "    <tr>\n",
              "      <th>1</th>\n",
              "      <td>Jakarta</td>\n",
              "      <td>-6.2146</td>\n",
              "      <td>106.8451</td>\n",
              "    </tr>\n",
              "    <tr>\n",
              "      <th>2</th>\n",
              "      <td>Delhi</td>\n",
              "      <td>28.6600</td>\n",
              "      <td>77.2300</td>\n",
              "    </tr>\n",
              "    <tr>\n",
              "      <th>3</th>\n",
              "      <td>Mumbai</td>\n",
              "      <td>18.9667</td>\n",
              "      <td>72.8333</td>\n",
              "    </tr>\n",
              "    <tr>\n",
              "      <th>4</th>\n",
              "      <td>Manila</td>\n",
              "      <td>14.5958</td>\n",
              "      <td>120.9772</td>\n",
              "    </tr>\n",
              "  </tbody>\n",
              "</table>\n",
              "</div>"
            ],
            "text/plain": [
              "      city      lat       lng\n",
              "0    Tokyo  35.6897  139.6922\n",
              "1  Jakarta  -6.2146  106.8451\n",
              "2    Delhi  28.6600   77.2300\n",
              "3   Mumbai  18.9667   72.8333\n",
              "4   Manila  14.5958  120.9772"
            ]
          },
          "metadata": {
            "tags": []
          },
          "execution_count": 9
        }
      ]
    },
    {
      "cell_type": "code",
      "metadata": {
        "colab": {
          "base_uri": "https://localhost:8080/"
        },
        "id": "YP3dLkJPB9H-",
        "outputId": "28dacf27-79d1-4561-cc2b-68d488a55aaa"
      },
      "source": [
        "df_location['city'].unique()"
      ],
      "execution_count": null,
      "outputs": [
        {
          "output_type": "execute_result",
          "data": {
            "text/plain": [
              "array(['Tokyo', 'Jakarta', 'Delhi', ..., 'Cheremoshna', 'Ambarchik',\n",
              "       'Nordvik'], dtype=object)"
            ]
          },
          "metadata": {
            "tags": []
          },
          "execution_count": 13
        }
      ]
    },
    {
      "cell_type": "code",
      "metadata": {
        "id": "O1T7LBrf88B4"
      },
      "source": [
        "dict = df_location.set_index('city').T.to_dict('list')\n",
        "dict"
      ],
      "execution_count": null,
      "outputs": []
    },
    {
      "cell_type": "code",
      "metadata": {
        "id": "HUunVxAD9e9Q"
      },
      "source": [
        "def location(pais):\n",
        "  lat = dict[pais][0]\n",
        "  lng = dict[pais][1]\n",
        "\n",
        "  print(lat, lng)"
      ],
      "execution_count": null,
      "outputs": []
    },
    {
      "cell_type": "code",
      "metadata": {
        "id": "XB2HeWhU96F2",
        "colab": {
          "base_uri": "https://localhost:8080/"
        },
        "outputId": "0066a0ad-163d-4806-8861-03e3f5555284"
      },
      "source": [
        "if __name__ == '__main__':\n",
        "  location('San Jose')\n",
        "\n",
        "  "
      ],
      "execution_count": null,
      "outputs": [
        {
          "output_type": "stream",
          "text": [
            "10.18 125.5683\n"
          ],
          "name": "stdout"
        }
      ]
    }
  ]
}
